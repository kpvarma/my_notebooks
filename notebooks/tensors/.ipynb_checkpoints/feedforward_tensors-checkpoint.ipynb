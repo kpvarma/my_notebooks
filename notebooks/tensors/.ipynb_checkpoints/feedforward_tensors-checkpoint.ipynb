{
 "cells": [
  {
   "cell_type": "code",
   "execution_count": 4,
   "id": "3bc01568-1ae2-44fa-8e3e-a8c61dbbd82a",
   "metadata": {},
   "outputs": [],
   "source": [
    "import tensorflow as tf\n",
    "import pandas as pd\n",
    "import numpy as np\n",
    "from sklearn.preprocessing import StandardScaler\n",
    "from sklearn.metrics import accuracy_score"
   ]
  },
  {
   "cell_type": "markdown",
   "id": "459ec5f6-8173-4efc-bef7-4c3a8f8fe7c2",
   "metadata": {},
   "source": [
    "## Reading CSV"
   ]
  },
  {
   "cell_type": "code",
   "execution_count": 18,
   "id": "bb0da79b-d602-41a5-8437-379efb8dea6d",
   "metadata": {},
   "outputs": [],
   "source": [
    "df = pd.read_csv('tensors/house_price_full.csv')"
   ]
  },
  {
   "cell_type": "code",
   "execution_count": 22,
   "id": "65332e26-cdab-4713-ade8-a3d8436e087b",
   "metadata": {},
   "outputs": [
    {
     "data": {
      "text/html": [
       "<div>\n",
       "<style scoped>\n",
       "    .dataframe tbody tr th:only-of-type {\n",
       "        vertical-align: middle;\n",
       "    }\n",
       "\n",
       "    .dataframe tbody tr th {\n",
       "        vertical-align: top;\n",
       "    }\n",
       "\n",
       "    .dataframe thead th {\n",
       "        text-align: right;\n",
       "    }\n",
       "</style>\n",
       "<table border=\"1\" class=\"dataframe\">\n",
       "  <thead>\n",
       "    <tr style=\"text-align: right;\">\n",
       "      <th></th>\n",
       "      <th>bedrooms</th>\n",
       "      <th>sqft_living</th>\n",
       "      <th>price</th>\n",
       "    </tr>\n",
       "  </thead>\n",
       "  <tbody>\n",
       "    <tr>\n",
       "      <th>0</th>\n",
       "      <td>3</td>\n",
       "      <td>1340</td>\n",
       "      <td>313000</td>\n",
       "    </tr>\n",
       "    <tr>\n",
       "      <th>1</th>\n",
       "      <td>5</td>\n",
       "      <td>3650</td>\n",
       "      <td>2384000</td>\n",
       "    </tr>\n",
       "    <tr>\n",
       "      <th>2</th>\n",
       "      <td>3</td>\n",
       "      <td>1930</td>\n",
       "      <td>342000</td>\n",
       "    </tr>\n",
       "    <tr>\n",
       "      <th>3</th>\n",
       "      <td>3</td>\n",
       "      <td>2000</td>\n",
       "      <td>420000</td>\n",
       "    </tr>\n",
       "    <tr>\n",
       "      <th>4</th>\n",
       "      <td>4</td>\n",
       "      <td>1940</td>\n",
       "      <td>550000</td>\n",
       "    </tr>\n",
       "  </tbody>\n",
       "</table>\n",
       "</div>"
      ],
      "text/plain": [
       "   bedrooms  sqft_living    price\n",
       "0         3         1340   313000\n",
       "1         5         3650  2384000\n",
       "2         3         1930   342000\n",
       "3         3         2000   420000\n",
       "4         4         1940   550000"
      ]
     },
     "execution_count": 22,
     "metadata": {},
     "output_type": "execute_result"
    }
   ],
   "source": [
    "df.head()"
   ]
  },
  {
   "cell_type": "markdown",
   "id": "e15100da-a671-40f4-bb4e-5f461f1b3b45",
   "metadata": {},
   "source": [
    "## Data Transformations"
   ]
  },
  {
   "cell_type": "code",
   "execution_count": null,
   "id": "f929fd8c-20dc-4ec6-aeb3-37b745d4970d",
   "metadata": {},
   "outputs": [],
   "source": []
  },
  {
   "cell_type": "code",
   "execution_count": 23,
   "id": "587e6fa2-a867-4c3d-97a0-8a0388422727",
   "metadata": {},
   "outputs": [],
   "source": [
    "X = df.copy()"
   ]
  },
  {
   "cell_type": "code",
   "execution_count": 24,
   "id": "9595b180-01d2-42c7-b7a2-0eaf3b0ec81f",
   "metadata": {},
   "outputs": [],
   "source": [
    "# Remove target\n",
    "Y = X.pop('price')"
   ]
  },
  {
   "cell_type": "code",
   "execution_count": null,
   "id": "91a51aa3-66cf-4410-973b-495b1907fd18",
   "metadata": {},
   "outputs": [],
   "source": []
  },
  {
   "cell_type": "code",
   "execution_count": null,
   "id": "a78bbefd-498a-45c3-80f3-1d2d39b05aa0",
   "metadata": {},
   "outputs": [],
   "source": [
    "# Perform a sacler transform of the input data\n",
    "scaler = StandardScaler()\n",
    "X = scaler.fit_transform(X)"
   ]
  },
  {
   "cell_type": "markdown",
   "id": "7fdb7798-a45d-4717-80a2-6668afe9a4a5",
   "metadata": {},
   "source": [
    "StandardScaler is a preprocessing technique commonly used in machine learning to standardize or normalize the features of a dataset. It scales the features in such a way that they have a mean of 0 and a standard deviation of 1. This is often important for machine learning algorithms that are sensitive to the scale of the input features, such as support vector machines and k-nearest neighbors.\n",
    "\n",
    "Here's how StandardScaler works:\n",
    "\n",
    "It calculates the mean and standard deviation of each feature in the training data.\n",
    "It subtracts the mean from each feature and then divides it by the standard deviation.\n",
    "This process results in transformed features with a mean of 0 and a standard deviation of 1."
   ]
  },
  {
   "cell_type": "code",
   "execution_count": null,
   "id": "b012962d-fd0f-46b1-a9da-9491faa1de5e",
   "metadata": {},
   "outputs": [],
   "source": [
    "# perform log transformation of target variable\n",
    "Y = np.log(Y)"
   ]
  },
  {
   "cell_type": "code",
   "execution_count": 32,
   "id": "3701f4f2-3859-42c6-81e0-410eab122d79",
   "metadata": {},
   "outputs": [
    {
     "data": {
      "text/html": [
       "<div>\n",
       "<style scoped>\n",
       "    .dataframe tbody tr th:only-of-type {\n",
       "        vertical-align: middle;\n",
       "    }\n",
       "\n",
       "    .dataframe tbody tr th {\n",
       "        vertical-align: top;\n",
       "    }\n",
       "\n",
       "    .dataframe thead th {\n",
       "        text-align: right;\n",
       "    }\n",
       "</style>\n",
       "<table border=\"1\" class=\"dataframe\">\n",
       "  <thead>\n",
       "    <tr style=\"text-align: right;\">\n",
       "      <th></th>\n",
       "      <th>bedrooms</th>\n",
       "      <th>sqft_living</th>\n",
       "    </tr>\n",
       "  </thead>\n",
       "  <tbody>\n",
       "    <tr>\n",
       "      <th>0</th>\n",
       "      <td>3</td>\n",
       "      <td>1340</td>\n",
       "    </tr>\n",
       "    <tr>\n",
       "      <th>1</th>\n",
       "      <td>5</td>\n",
       "      <td>3650</td>\n",
       "    </tr>\n",
       "    <tr>\n",
       "      <th>2</th>\n",
       "      <td>3</td>\n",
       "      <td>1930</td>\n",
       "    </tr>\n",
       "    <tr>\n",
       "      <th>3</th>\n",
       "      <td>3</td>\n",
       "      <td>2000</td>\n",
       "    </tr>\n",
       "    <tr>\n",
       "      <th>4</th>\n",
       "      <td>4</td>\n",
       "      <td>1940</td>\n",
       "    </tr>\n",
       "    <tr>\n",
       "      <th>...</th>\n",
       "      <td>...</td>\n",
       "      <td>...</td>\n",
       "    </tr>\n",
       "    <tr>\n",
       "      <th>494</th>\n",
       "      <td>4</td>\n",
       "      <td>3040</td>\n",
       "    </tr>\n",
       "    <tr>\n",
       "      <th>495</th>\n",
       "      <td>5</td>\n",
       "      <td>4530</td>\n",
       "    </tr>\n",
       "    <tr>\n",
       "      <th>496</th>\n",
       "      <td>3</td>\n",
       "      <td>1370</td>\n",
       "    </tr>\n",
       "    <tr>\n",
       "      <th>497</th>\n",
       "      <td>3</td>\n",
       "      <td>1940</td>\n",
       "    </tr>\n",
       "    <tr>\n",
       "      <th>498</th>\n",
       "      <td>3</td>\n",
       "      <td>1040</td>\n",
       "    </tr>\n",
       "  </tbody>\n",
       "</table>\n",
       "<p>499 rows × 2 columns</p>\n",
       "</div>"
      ],
      "text/plain": [
       "     bedrooms  sqft_living\n",
       "0           3         1340\n",
       "1           5         3650\n",
       "2           3         1930\n",
       "3           3         2000\n",
       "4           4         1940\n",
       "..        ...          ...\n",
       "494         4         3040\n",
       "495         5         4530\n",
       "496         3         1370\n",
       "497         3         1940\n",
       "498         3         1040\n",
       "\n",
       "[499 rows x 2 columns]"
      ]
     },
     "execution_count": 32,
     "metadata": {},
     "output_type": "execute_result"
    }
   ],
   "source": [
    "df_scaled = pd.DataFrame(X)\n",
    "df_scaled"
   ]
  },
  {
   "cell_type": "code",
   "execution_count": 38,
   "id": "a54c1372-4e6d-440d-a5e0-292b5aedc64c",
   "metadata": {},
   "outputs": [
    {
     "data": {
      "text/plain": [
       "0       313000\n",
       "1      2384000\n",
       "2       342000\n",
       "3       420000\n",
       "4       550000\n",
       "        ...   \n",
       "494     647000\n",
       "495     950000\n",
       "496     185000\n",
       "497     335000\n",
       "498     210000\n",
       "Name: price, Length: 499, dtype: int64"
      ]
     },
     "execution_count": 38,
     "metadata": {},
     "output_type": "execute_result"
    }
   ],
   "source": [
    "Y"
   ]
  },
  {
   "cell_type": "code",
   "execution_count": 33,
   "id": "f9c57d96-3bc4-425c-9a8a-a6c8bcef484e",
   "metadata": {},
   "outputs": [],
   "source": [
    "#Taking 1 sample: x0,x1\n",
    "x1, x2 = df_scaled.iloc[0]"
   ]
  },
  {
   "cell_type": "code",
   "execution_count": 39,
   "id": "42a6fe39-8bc3-4990-8e49-0c5961b7f84c",
   "metadata": {},
   "outputs": [
    {
     "data": {
      "text/plain": [
       "<tf.Tensor: shape=(1, 2), dtype=float32, numpy=array([[   3., 1340.]], dtype=float32)>"
      ]
     },
     "execution_count": 39,
     "metadata": {},
     "output_type": "execute_result"
    }
   ],
   "source": [
    "x = tf.constant([[x1,x2]], dtype=tf.float32)\n",
    "x"
   ]
  },
  {
   "cell_type": "markdown",
   "id": "7f94a06c-b656-48b8-b8ff-efc772aeefd0",
   "metadata": {},
   "source": [
    "## Forward Propagation with a single Neuron"
   ]
  },
  {
   "cell_type": "markdown",
   "id": "14ceedf7-3abc-4150-89e9-bb154d478220",
   "metadata": {
    "jp-MarkdownHeadingCollapsed": true,
    "tags": []
   },
   "source": [
    "The simplest way to describe a neural network is that we have some inputs , which get combined into an auxilliary variable . The auxilliary variable is passed through the activation function  and the result is the output.\n",
    "\n",
    "Here is another image showing each step.\n",
    "![](neuron.png)\n",
    "Notice that the inputs are linearly combined according to some weights  and a bias . This transformation is also sometimes called an affine transformation. The perceptron transforms the weighted inputs according to the rule of the activation function. For a single perceptron, the output  is just the output from the perceptron. The linear transformation and activation of the neuron occurs within a single layer of the network (shown in the dotted box).\n",
    "\n",
    "Let's see what the single-layer, single neuron network give us. We have a couple of choices to make:\n",
    "\n",
    "We must choose some weights and some biases\n",
    "We must choose an activation function\n",
    "For now, we will manually specify the weights and biases.\n",
    "\n",
    "We choose a sigmoid activation function"
   ]
  },
  {
   "cell_type": "code",
   "execution_count": 41,
   "id": "d7a4b38f-542d-4c70-af38-cc4d031ae3ee",
   "metadata": {},
   "outputs": [],
   "source": [
    "# Bias\n",
    "b = tf.Variable([[1.0]], dtype=tf.float32)\n",
    "\n",
    "# Weights\n",
    "w1 = tf.Variable([[0.2]], dtype=tf.float32)\n",
    "w2 = tf.Variable([[0.15]], dtype=tf.float32)"
   ]
  },
  {
   "cell_type": "code",
   "execution_count": 40,
   "id": "5c7c84a4-c5d7-4794-9c94-84f0fe66d66c",
   "metadata": {},
   "outputs": [],
   "source": [
    "#Cumulative input\n",
    "z = b + w1*x1 + w2*x2\n",
    "h = tf.math.sigmoid(z)"
   ]
  },
  {
   "cell_type": "code",
   "execution_count": null,
   "id": "6fd5de84-a8a4-4c63-b2ac-881b7b7f7de5",
   "metadata": {},
   "outputs": [],
   "source": []
  },
  {
   "cell_type": "code",
   "execution_count": null,
   "id": "d8d058bb-3fa2-4f13-b5d1-00241274b07a",
   "metadata": {},
   "outputs": [],
   "source": []
  }
 ],
 "metadata": {
  "kernelspec": {
   "display_name": "Python 3 (ipykernel)",
   "language": "python",
   "name": "python3"
  },
  "language_info": {
   "codemirror_mode": {
    "name": "ipython",
    "version": 3
   },
   "file_extension": ".py",
   "mimetype": "text/x-python",
   "name": "python",
   "nbconvert_exporter": "python",
   "pygments_lexer": "ipython3",
   "version": "3.8.13"
  }
 },
 "nbformat": 4,
 "nbformat_minor": 5
}
