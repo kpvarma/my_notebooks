{
 "cells": [
  {
   "cell_type": "markdown",
   "id": "d8b06ddb-fa5d-4763-a495-3813b3552725",
   "metadata": {},
   "source": [
    "# Introduction to Tensors"
   ]
  },
  {
   "cell_type": "markdown",
   "id": "44966e32-ea93-405a-ad53-6a23c8d2cc94",
   "metadata": {},
   "source": [
    "Tensors are multi-dimensional arrays that are fundamental to data representation in machine learning and deep learning. In Python, you can work with tensors using libraries like NumPy and TensorFlow."
   ]
  },
  {
   "cell_type": "code",
   "execution_count": 6,
   "id": "72ad1c78-7dbe-4c79-8d87-ee61a6c04e11",
   "metadata": {},
   "outputs": [],
   "source": [
    "import numpy as np\n",
    "import tensorflow as tf"
   ]
  },
  {
   "cell_type": "code",
   "execution_count": 8,
   "id": "4901ff50-14aa-4b3a-ad78-0857e745f48f",
   "metadata": {},
   "outputs": [
    {
     "name": "stdout",
     "output_type": "stream",
     "text": [
      "Numpy Version:  1.24.3\n",
      "Tensorflow Version:  2.13.1\n"
     ]
    }
   ],
   "source": [
    "print(\"Numpy Version: \", np.__version__)\n",
    "print(\"Tensorflow Version: \", tf.__version__)"
   ]
  },
  {
   "cell_type": "markdown",
   "id": "6bc8cff8-4fb6-4807-bc7d-04020932babe",
   "metadata": {
    "tags": []
   },
   "source": [
    "## Vectors\n",
    "\n",
    "A vector is a one dimensional tensor"
   ]
  },
  {
   "cell_type": "code",
   "execution_count": 18,
   "id": "d84361d5-fb89-423b-bae1-65a799547eff",
   "metadata": {},
   "outputs": [
    {
     "name": "stdout",
     "output_type": "stream",
     "text": [
      "tf vector shape:  (5,)\n",
      "np vector shape:  (5,)\n"
     ]
    }
   ],
   "source": [
    "vector_tf = tf.constant([1,2,3,4,5])\n",
    "vector_np = np.array([1,2,3,4,5])\n",
    "\n",
    "print(\"tf vector shape: \", vector_tf.shape)\n",
    "print(\"np vector shape: \", vector_np.shape)\n",
    "\n",
    "#print(vector_tf)\n",
    "#print(vector_np)\n"
   ]
  },
  {
   "cell_type": "markdown",
   "id": "5a0385a8-4dda-4c61-87b6-0d6879bd698d",
   "metadata": {
    "tags": []
   },
   "source": [
    "## Matrix\n",
    "\n",
    "A matrix is a two dimensional tensor"
   ]
  },
  {
   "cell_type": "code",
   "execution_count": 19,
   "id": "afa9d750-8e07-4477-80d2-472b740059cb",
   "metadata": {},
   "outputs": [
    {
     "name": "stdout",
     "output_type": "stream",
     "text": [
      "tf matrix shape:  (3, 2)\n",
      "np matrix shape:  (3, 2)\n"
     ]
    }
   ],
   "source": [
    "matfix_tf = tf.constant([[1,2],[3,4],[5,6]])\n",
    "matfix_np = np.array([[1,2],[3,4],[5,6]])\n",
    "\n",
    "print(\"tf matrix shape: \", matfix_tf.shape)\n",
    "print(\"np matrix shape: \", matfix_np.shape)\n",
    "\n",
    "#print(matfix_tf)\n",
    "#print(matfix_np)\n"
   ]
  },
  {
   "cell_type": "markdown",
   "id": "cb348415-2651-4885-9953-c40470edccaf",
   "metadata": {
    "tags": []
   },
   "source": [
    "## 3 Dimensional Tensors\n",
    "\n",
    "Tensors can be n dimensional"
   ]
  },
  {
   "cell_type": "code",
   "execution_count": 23,
   "id": "43f62697-e522-47c8-9a66-100928bb808b",
   "metadata": {},
   "outputs": [
    {
     "name": "stdout",
     "output_type": "stream",
     "text": [
      "t3_tf shape:  (5, 3, 2)\n",
      "t3_np shape:  (5, 3, 2)\n"
     ]
    }
   ],
   "source": [
    "t3_tf = tf.constant([[[1,2],[3,4],[5,6]]] * 5)\n",
    "t3_np = np.array([[[1,2],[3,4],[5,6]]] * 5)\n",
    "\n",
    "print(\"t3_tf shape: \", t3_tf.shape)\n",
    "print(\"t3_np shape: \", t3_np.shape)\n",
    "\n",
    "# Whenever a tensor is printed, it will show you the values and datatype\n",
    "# print(t3_tf)\n",
    "# print(t3_np)\n"
   ]
  },
  {
   "cell_type": "markdown",
   "id": "b0339d19-b0f6-4dfb-87a3-1b5fea402455",
   "metadata": {
    "tags": []
   },
   "source": [
    "## Declaring Tensors\n",
    "\n",
    "There are 2 types of tensors.\n",
    "constant and variable"
   ]
  },
  {
   "cell_type": "code",
   "execution_count": 25,
   "id": "d0575af6-3d7a-4c09-9a47-70d6a516e44e",
   "metadata": {},
   "outputs": [],
   "source": [
    "const_tensor = tf.constant([[1,2,3], [4,5,6]])\n",
    "var_tensor = tf.Variable([[1,2,3], [4,5,6]])"
   ]
  },
  {
   "cell_type": "markdown",
   "id": "defdd78d-8e04-4703-b04e-3377cb4d9e53",
   "metadata": {},
   "source": [
    "Tensors can be declared with specific datatypes"
   ]
  },
  {
   "cell_type": "code",
   "execution_count": 27,
   "id": "65ae1746-7457-4d06-97a5-cd1b6386edd7",
   "metadata": {},
   "outputs": [
    {
     "name": "stdout",
     "output_type": "stream",
     "text": [
      "<tf.Variable 'Variable:0' shape=(1, 2, 2) dtype=int32, numpy=\n",
      "array([[[1, 2],\n",
      "        [3, 4]]], dtype=int32)>\n",
      "<tf.Variable 'Variable:0' shape=(1, 2, 2) dtype=float32, numpy=\n",
      "array([[[1.     , 2.2    ],\n",
      "        [3.01   , 4.21893]]], dtype=float32)>\n",
      "<tf.Variable 'Variable:0' shape=(1, 2, 2) dtype=bool, numpy=\n",
      "array([[[ True, False],\n",
      "        [ True,  True]]])>\n"
     ]
    }
   ],
   "source": [
    "int32_tensor = tf.Variable([[[1,2], [3,4]]], dtype=tf.int32)\n",
    "flaot32_tensor = tf.Variable([[[1.0,2.2], [3.01,4.21893]]], dtype=tf.float32)\n",
    "bool_tensor = tf.Variable([[[True,False], [True,True]]], dtype=tf.bool)\n",
    "\n",
    "print(int32_tensor)\n",
    "print(flaot32_tensor)\n",
    "print(bool_tensor)"
   ]
  },
  {
   "cell_type": "markdown",
   "id": "2931e6bb-a81b-47ed-b622-ce3b23926e57",
   "metadata": {},
   "source": [
    "Tensors can be converted to numpy array using the function numpy()"
   ]
  },
  {
   "cell_type": "code",
   "execution_count": 28,
   "id": "19cf965b-9398-4a3b-932e-817e4f758fc9",
   "metadata": {},
   "outputs": [
    {
     "data": {
      "text/plain": [
       "array([[[1, 2],\n",
       "        [3, 4]]], dtype=int32)"
      ]
     },
     "execution_count": 28,
     "metadata": {},
     "output_type": "execute_result"
    }
   ],
   "source": [
    "int32_tensor.numpy()"
   ]
  },
  {
   "cell_type": "markdown",
   "id": "6f96f3a8-16eb-4281-a06b-a49fc0bc8673",
   "metadata": {
    "tags": []
   },
   "source": [
    "## Mathematical Operations on Tensors"
   ]
  },
  {
   "cell_type": "markdown",
   "id": "75605a88-f83d-48f8-9327-5945f73788a0",
   "metadata": {
    "jp-MarkdownHeadingCollapsed": true,
    "tags": []
   },
   "source": [
    "### Element wise common mathematical operations"
   ]
  },
  {
   "cell_type": "code",
   "execution_count": 35,
   "id": "1ed5e083-fbb3-4994-ba0a-953d32d00894",
   "metadata": {},
   "outputs": [
    {
     "name": "stdout",
     "output_type": "stream",
     "text": [
      "x:  <tf.Variable 'Variable:0' shape=(6, 4) dtype=int32, numpy=\n",
      "array([[0, 1, 2, 3],\n",
      "       [0, 1, 2, 3],\n",
      "       [0, 1, 2, 3],\n",
      "       [0, 1, 2, 3],\n",
      "       [0, 1, 2, 3],\n",
      "       [0, 1, 2, 3]], dtype=int32)>\n",
      "y:  tf.Tensor(\n",
      "[[3 4 5 6]\n",
      " [3 4 5 6]\n",
      " [3 4 5 6]\n",
      " [3 4 5 6]\n",
      " [3 4 5 6]\n",
      " [3 4 5 6]], shape=(6, 4), dtype=int32)\n"
     ]
    }
   ],
   "source": [
    "x = tf.Variable([list(range(4))]*6)\n",
    "y = x + 3\n",
    "\n",
    "print(\"x: \", x)\n",
    "print(\"y: \", y)"
   ]
  },
  {
   "cell_type": "code",
   "execution_count": 36,
   "id": "a450bbd1-9eb9-41da-b083-cf39405addc2",
   "metadata": {
    "tags": []
   },
   "outputs": [
    {
     "name": "stdout",
     "output_type": "stream",
     "text": [
      "z:  tf.Tensor(\n",
      "[[3 5 7 9]\n",
      " [3 5 7 9]\n",
      " [3 5 7 9]\n",
      " [3 5 7 9]\n",
      " [3 5 7 9]\n",
      " [3 5 7 9]], shape=(6, 4), dtype=int32)\n"
     ]
    }
   ],
   "source": [
    "z = x + y \n",
    "# Equivalent Function would be\n",
    "# z = tf.add(x,y)\n",
    "print(\"z: \", z)"
   ]
  },
  {
   "cell_type": "code",
   "execution_count": 37,
   "id": "120e2dd3-294a-43f2-b1e9-a874eca01cd8",
   "metadata": {},
   "outputs": [
    {
     "name": "stdout",
     "output_type": "stream",
     "text": [
      "z:  tf.Tensor(\n",
      "[[-3 -3 -3 -3]\n",
      " [-3 -3 -3 -3]\n",
      " [-3 -3 -3 -3]\n",
      " [-3 -3 -3 -3]\n",
      " [-3 -3 -3 -3]\n",
      " [-3 -3 -3 -3]], shape=(6, 4), dtype=int32)\n"
     ]
    }
   ],
   "source": [
    "z = x - y\n",
    "# Equivalent Function would be\n",
    "# z = tf.subtract(x,y)\n",
    "print(\"z: \", z)"
   ]
  },
  {
   "cell_type": "code",
   "execution_count": 38,
   "id": "2edf66e0-5f4a-4b3f-ac47-3f1d73ad27ab",
   "metadata": {},
   "outputs": [
    {
     "name": "stdout",
     "output_type": "stream",
     "text": [
      "z:  tf.Tensor(\n",
      "[[ 0  4 10 18]\n",
      " [ 0  4 10 18]\n",
      " [ 0  4 10 18]\n",
      " [ 0  4 10 18]\n",
      " [ 0  4 10 18]\n",
      " [ 0  4 10 18]], shape=(6, 4), dtype=int32)\n"
     ]
    }
   ],
   "source": [
    "z = x * y\n",
    "# Equivalent Function would be\n",
    "# z = tf.multiply(x,y)\n",
    "print(\"z: \", z)"
   ]
  },
  {
   "cell_type": "code",
   "execution_count": 39,
   "id": "eae5a919-0d33-410c-a1d6-144feb3c8dc4",
   "metadata": {},
   "outputs": [
    {
     "name": "stdout",
     "output_type": "stream",
     "text": [
      "z:  tf.Tensor(\n",
      "[[0.   0.25 0.4  0.5 ]\n",
      " [0.   0.25 0.4  0.5 ]\n",
      " [0.   0.25 0.4  0.5 ]\n",
      " [0.   0.25 0.4  0.5 ]\n",
      " [0.   0.25 0.4  0.5 ]\n",
      " [0.   0.25 0.4  0.5 ]], shape=(6, 4), dtype=float64)\n"
     ]
    }
   ],
   "source": [
    "z = x/y\n",
    "# Equivalent Function would be\n",
    "# z = tf.divide(x,y)\n",
    "print(\"z: \", z)"
   ]
  },
  {
   "cell_type": "markdown",
   "id": "1bfbd4a3-6921-4da9-ba35-49e1d8e0d456",
   "metadata": {},
   "source": [
    "**NOTE: Element wise operations will not work if both tensors are of different shapes**"
   ]
  },
  {
   "cell_type": "markdown",
   "id": "6c0bb4fc-a5f8-40f6-ae12-52e51915014d",
   "metadata": {},
   "source": [
    "### Linear Algebra on Tensors"
   ]
  },
  {
   "cell_type": "markdown",
   "id": "841eb23f-93d3-40e9-a261-dafad941aae1",
   "metadata": {},
   "source": [
    "#### Matrix Multiplication using matmul function in the linalg library"
   ]
  },
  {
   "cell_type": "code",
   "execution_count": 42,
   "id": "c728ed4d-1238-4bb7-9f1c-0587a0b40c66",
   "metadata": {},
   "outputs": [
    {
     "name": "stdout",
     "output_type": "stream",
     "text": [
      "matrix_A:  tf.Tensor(\n",
      "[[1 2 3]\n",
      " [4 5 6]], shape=(2, 3), dtype=int32)\n",
      "matrix_B:  tf.Tensor(\n",
      "[[ 7  8]\n",
      " [ 9 10]\n",
      " [11 12]], shape=(3, 2), dtype=int32)\n",
      "Result of Matrix Multiplication: tf.Tensor(\n",
      "[[ 58  64]\n",
      " [139 154]], shape=(2, 2), dtype=int32)\n"
     ]
    }
   ],
   "source": [
    "matrix_A = tf.constant([[1, 2, 3], [4, 5, 6]])  # 2x3 matrix\n",
    "matrix_B = tf.constant([[7, 8], [9, 10], [11, 12]])  # 3x2 matrix\n",
    "\n",
    "result = tf.linalg.matmul(matrix_A, matrix_B)\n",
    "\n",
    "print(\"matrix_A: \", matrix_A)\n",
    "print(\"matrix_B: \", matrix_B)\n",
    "print(\"Result of Matrix Multiplication:\", result)"
   ]
  },
  {
   "cell_type": "markdown",
   "id": "d53c3ea4-d570-427f-979d-5447c6e0d91b",
   "metadata": {},
   "source": [
    "#### Finding the inverse of a matrix using the inv functionj in the linalg library"
   ]
  },
  {
   "cell_type": "markdown",
   "id": "0efa6c92-b661-44e5-b44d-7ac3fb984f20",
   "metadata": {},
   "source": [
    "**Not all matrices have inverses. For a matrix to have an inverse, it must be square (having the same number of rows and columns) and have a non-zero determinant. If the matrix is singular (no inverse exists), you may encounter an error or a result with NaN values.**"
   ]
  },
  {
   "cell_type": "code",
   "execution_count": null,
   "id": "fc707bcf-102e-4e90-8c0c-4b11bf722452",
   "metadata": {},
   "outputs": [],
   "source": [
    "matrix_A = tf.constant([[1.0, 2.0], [3.0, 4.0]])\n",
    "\n",
    "inverse_A = tf.linalg.inv(matrix_A)\n",
    "\n",
    "print(\"matrix_A:\", matrix_A)\n",
    "print(\"\\nInverse of the Matrix:\", inverse_A)"
   ]
  },
  {
   "cell_type": "markdown",
   "id": "bb4ef81e-00c5-4fcb-91ce-9f2598eca939",
   "metadata": {},
   "source": [
    "**When you try to find the inverse of a matrix using tf.linalg.inv, the input matrix must have a data type of float32 or float64. You cannot directly find the inverse of a matrix with an integer data type using this function.**"
   ]
  },
  {
   "cell_type": "markdown",
   "id": "974f6842-dfef-440a-b8ee-9868d5868948",
   "metadata": {},
   "source": [
    "If you attempt to run the code above, you'll encounter an error similar to the following:\n",
    "**InvalidArgumentError: Matrix is not invertible.**"
   ]
  },
  {
   "cell_type": "markdown",
   "id": "7fb36b87-022b-429d-9c4f-42029771db4b",
   "metadata": {},
   "source": [
    "#### Solving a linear equation with 4 variables"
   ]
  },
  {
   "cell_type": "markdown",
   "id": "9ea42cc6-ab38-41a6-bc7e-3b3541b98ab6",
   "metadata": {},
   "source": [
    "Suppose we have the following linear system of equations:\n",
    "\n",
    "2x + 3y + z - w = 10\n",
    "x - 2y + 2z + 2w = -4\n",
    "3x + y - z + 3w = 6\n",
    "4x - y + 3z - w = 2"
   ]
  },
  {
   "cell_type": "markdown",
   "id": "37a0f50c-22fc-4e6c-bd89-8383041bce11",
   "metadata": {},
   "source": [
    "We can represent this system of equations in matrix form as Ax = b, where A is the coefficient matrix, x is the vector of variables [x, y, z, w], and b is the vector of constants on the right-hand side.\n"
   ]
  },
  {
   "cell_type": "code",
   "execution_count": 52,
   "id": "79e8d318-527b-413a-b7e3-81e7ba9cee2c",
   "metadata": {},
   "outputs": [],
   "source": [
    "# Define the coefficient matrix A\n",
    "A = tf.constant([[2.0, 3.0, 1.0, -1.0],\n",
    "                 [1.0, -2.0, 2.0, 2.0],\n",
    "                 [3.0, 1.0, -1.0, 3.0],\n",
    "                 [4.0, -1.0, 3.0, -1.0]], dtype=tf.float32)\n",
    "\n",
    "# Define the vector of constants b\n",
    "b = tf.constant([[10.0], [-4.0], [6.0], [2.0]], dtype=tf.float32)"
   ]
  },
  {
   "cell_type": "markdown",
   "id": "3d41fbd1-f2e5-4e3b-b179-e6a7ee587466",
   "metadata": {},
   "source": [
    "Let's solve it step by step:\n",
    "\n",
    "- Define the coefficient matrix A and the vector of constants b.\n",
    "- Calculate the inverse of A using tf.linalg.inv.\n",
    "- Multiply the inverse of A with b to find the solution vector x."
   ]
  },
  {
   "cell_type": "code",
   "execution_count": 53,
   "id": "a3d3142b-a719-4ee3-b76d-b2a1561d41c6",
   "metadata": {},
   "outputs": [
    {
     "name": "stdout",
     "output_type": "stream",
     "text": [
      "Solution:\n",
      "[[ 1.1428572e+00]\n",
      " [ 2.5714288e+00]\n",
      " [ 1.4901161e-08]\n",
      " [-5.9604645e-08]]\n"
     ]
    }
   ],
   "source": [
    "# Calculate the inverse of A\n",
    "A_inv = tf.linalg.inv(A)\n",
    "\n",
    "# Calculate the solution x by multiplying A_inv with b\n",
    "x = tf.matmul(A_inv, b)\n",
    "\n",
    "# Display the solution\n",
    "print(\"Solution:\")\n",
    "print(x.numpy())"
   ]
  },
  {
   "cell_type": "markdown",
   "id": "d71145d0-78bf-41c2-ac38-ea54a4f26d53",
   "metadata": {},
   "source": [
    "\n",
    "The code defines the coefficient matrix A and the vector of constants b, and then uses tf.linalg.solve to find the solution vector x. The result will be the values of the variables x, y, z, and w that satisfy the system of equations.\n"
   ]
  },
  {
   "cell_type": "markdown",
   "id": "ba852413-0a4a-483d-b88d-ea3731454228",
   "metadata": {},
   "source": [
    "### A Practical Use of algebraic equations with tensor flow"
   ]
  },
  {
   "cell_type": "markdown",
   "id": "06d7290e-7beb-429b-939a-c698b5a08fed",
   "metadata": {},
   "source": [
    "The weights and bias term of a trained model logistic regression model are given below.  \n",
    "\n",
    "w1 = 0.5, w2 = 1 , w3 = -1.2 \n",
    "\n",
    "b = 0.01\n",
    "\n",
    "The features of a data point are given below.\n",
    "\n",
    "​x1 = 0.2, x2 = 1, x3 = 0.5\n",
    "\n",
    "Using TensorFlow, find the probability of the data point belonging to the positive class."
   ]
  },
  {
   "cell_type": "markdown",
   "id": "f9b146b1-89f6-4746-91a7-1a0f7ff265ae",
   "metadata": {},
   "source": [
    "To find the probability of a data point belonging to the positive class in a logistic regression model with given weights and bias, you can use the logistic sigmoid function. \n",
    "\n",
    "Here's how you can do it using TensorFlow:\n"
   ]
  },
  {
   "cell_type": "code",
   "execution_count": 54,
   "id": "8ea00a30-aedc-4d76-a803-aba51587f55a",
   "metadata": {},
   "outputs": [
    {
     "name": "stdout",
     "output_type": "stream",
     "text": [
      "Probability of the data point belonging to the positive class: 0.62480646\n"
     ]
    }
   ],
   "source": [
    "# Define the weights and bias\n",
    "w1 = 0.5\n",
    "w2 = 1\n",
    "w3 = -1.2\n",
    "b = 0.01\n",
    "\n",
    "# Define the features of the data point\n",
    "x1 = 0.2\n",
    "x2 = 1\n",
    "x3 = 0.5\n",
    "\n",
    "# Calculate the linear combination of weights and features\n",
    "z = w1 * x1 + w2 * x2 + w3 * x3 + b\n",
    "\n",
    "# Apply the logistic sigmoid function to get the probability\n",
    "probability = tf.sigmoid(z)\n",
    "\n",
    "# Display the probability\n",
    "print(\"Probability of the data point belonging to the positive class:\", probability.numpy())"
   ]
  },
  {
   "cell_type": "markdown",
   "id": "2ac711fa-9d54-4aa2-b8f1-0d60af517306",
   "metadata": {},
   "source": [
    "In this code:\n",
    "\n",
    "We first define the weights w1, w2, w3, and the bias b as given.\n",
    "\n",
    "We define the features x1, x2, and x3 of the data point.\n",
    "\n",
    "We calculate the linear combination z of weights and features as z = w1 * x1 + w2 * x2 + w3 * x3 + b.\n",
    "\n",
    "We apply the logistic sigmoid function using tf.sigmoid(z) to obtain the probability of the data point belonging to the positive class.\n",
    "\n",
    "Running this code will give you the probability of the data point belonging to the positive class based on the logistic regression model with the provided weights and bias."
   ]
  },
  {
   "cell_type": "code",
   "execution_count": null,
   "id": "98cff63a-b60a-475e-ab6d-4ee5820a9b9b",
   "metadata": {},
   "outputs": [],
   "source": []
  },
  {
   "cell_type": "code",
   "execution_count": null,
   "id": "1e1af210-c191-4cb4-b80e-f1b27b17d03f",
   "metadata": {},
   "outputs": [],
   "source": []
  },
  {
   "cell_type": "code",
   "execution_count": null,
   "id": "56a790d7-181b-4eac-b1bc-537e35433cc0",
   "metadata": {},
   "outputs": [],
   "source": []
  }
 ],
 "metadata": {
  "kernelspec": {
   "display_name": "Python 3 (ipykernel)",
   "language": "python",
   "name": "python3"
  },
  "language_info": {
   "codemirror_mode": {
    "name": "ipython",
    "version": 3
   },
   "file_extension": ".py",
   "mimetype": "text/x-python",
   "name": "python",
   "nbconvert_exporter": "python",
   "pygments_lexer": "ipython3",
   "version": "3.8.13"
  }
 },
 "nbformat": 4,
 "nbformat_minor": 5
}
